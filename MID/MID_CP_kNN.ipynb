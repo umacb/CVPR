{
 "cells": [
  {
   "cell_type": "code",
   "execution_count": 1,
   "id": "86916e53",
   "metadata": {},
   "outputs": [
    {
     "ename": "PermissionError",
     "evalue": "[Errno 13] Permission denied: 'C:\\\\Users\\\\aniks\\\\Onedrive\\\\Documents\\\\CIFAR-10-images-master\\\\train\\\\airplane'",
     "output_type": "error",
     "traceback": [
      "\u001b[1;31m---------------------------------------------------------------------------\u001b[0m",
      "\u001b[1;31mPermissionError\u001b[0m                           Traceback (most recent call last)",
      "Cell \u001b[1;32mIn[1], line 11\u001b[0m\n\u001b[0;32m      9\u001b[0m \u001b[38;5;28;01mfor\u001b[39;00m img \u001b[38;5;129;01min\u001b[39;00m os\u001b[38;5;241m.\u001b[39mlistdir(train_dir):\n\u001b[0;32m     10\u001b[0m   img_path \u001b[38;5;241m=\u001b[39m os\u001b[38;5;241m.\u001b[39mpath\u001b[38;5;241m.\u001b[39mjoin(train_dir, img)\n\u001b[1;32m---> 11\u001b[0m   img_array \u001b[38;5;241m=\u001b[39m np\u001b[38;5;241m.\u001b[39marray(\u001b[43mImage\u001b[49m\u001b[38;5;241;43m.\u001b[39;49m\u001b[43mopen\u001b[49m\u001b[43m(\u001b[49m\u001b[43mimg_path\u001b[49m\u001b[43m)\u001b[49m)\n\u001b[0;32m     12\u001b[0m   X_train\u001b[38;5;241m.\u001b[39mappend(img_array) \n\u001b[0;32m     14\u001b[0m X_train \u001b[38;5;241m=\u001b[39m np\u001b[38;5;241m.\u001b[39marray(X_train)\n",
      "File \u001b[1;32m~\\anaconda3\\envs\\cvpr\\lib\\site-packages\\PIL\\Image.py:3227\u001b[0m, in \u001b[0;36mopen\u001b[1;34m(fp, mode, formats)\u001b[0m\n\u001b[0;32m   3224\u001b[0m     filename \u001b[38;5;241m=\u001b[39m fp\n\u001b[0;32m   3226\u001b[0m \u001b[38;5;28;01mif\u001b[39;00m filename:\n\u001b[1;32m-> 3227\u001b[0m     fp \u001b[38;5;241m=\u001b[39m \u001b[43mbuiltins\u001b[49m\u001b[38;5;241;43m.\u001b[39;49m\u001b[43mopen\u001b[49m\u001b[43m(\u001b[49m\u001b[43mfilename\u001b[49m\u001b[43m,\u001b[49m\u001b[43m \u001b[49m\u001b[38;5;124;43m\"\u001b[39;49m\u001b[38;5;124;43mrb\u001b[39;49m\u001b[38;5;124;43m\"\u001b[39;49m\u001b[43m)\u001b[49m\n\u001b[0;32m   3228\u001b[0m     exclusive_fp \u001b[38;5;241m=\u001b[39m \u001b[38;5;28;01mTrue\u001b[39;00m\n\u001b[0;32m   3230\u001b[0m \u001b[38;5;28;01mtry\u001b[39;00m:\n",
      "\u001b[1;31mPermissionError\u001b[0m: [Errno 13] Permission denied: 'C:\\\\Users\\\\aniks\\\\Onedrive\\\\Documents\\\\CIFAR-10-images-master\\\\train\\\\airplane'"
     ]
    }
   ],
   "source": [
    "import numpy as np\n",
    "from PIL import Image \n",
    "import os\n",
    "\n",
    "# Load train images\n",
    "train_dir = 'C:\\\\Users\\\\aniks\\\\Onedrive\\\\Documents\\\\CIFAR-10-images-master\\\\train' \n",
    "\n",
    "X_train = []\n",
    "for img in os.listdir(train_dir):\n",
    "  img_path = os.path.join(train_dir, img)\n",
    "  img_array = np.array(Image.open(img_path))\n",
    "  X_train.append(img_array) \n",
    "\n",
    "X_train = np.array(X_train)\n",
    "\n",
    "# Convert train images to grayscale\n",
    "X_train = 0.2989 * X_train[:, :, :, 0] + 0.5870 * X_train[:, :, :, 1] + 0.1140 * X_train[:, :, :, 2]\n",
    "\n",
    "# Normalize train pixel values  \n",
    "X_train = X_train/255.0\n",
    "\n",
    "# Reshape train images\n",
    "X_train = X_train.reshape(50000, 32*32*3)\n",
    "\n",
    "\n",
    "# Load test images\n",
    "test_dir = 'C:\\\\Users\\\\aniks\\\\Onedrive\\\\Documents\\\\CIFAR-10-images-master\\\\test'\n",
    "\n",
    "\n",
    "X_test = [] \n",
    "for img in os.listdir(test_dir):\n",
    "  img_path = os.path.join(test_dir, img)\n",
    "  img_array = np.array(Image.open(img_path))\n",
    "  X_test.append(img_array)\n",
    "  \n",
    "X_test = np.array(X_test)  \n",
    "\n",
    "# Convert test images to grayscale \n",
    "X_test = 0.2989 * X_test[:, :, :, 0] + 0.5870 * X_test[:, :, :, 1] + 0.1140 * X_test[:, :, :, 2]\n",
    "\n",
    "# Normalize test pixel values\n",
    "X_test = X_test/255.0\n",
    "\n",
    "# Reshape test images\n",
    "X_test = X_test.reshape(10000, 32*32*3)"
   ]
  },
  {
   "cell_type": "code",
   "execution_count": null,
   "id": "ad62d2f9",
   "metadata": {},
   "outputs": [],
   "source": []
  }
 ],
 "metadata": {
  "kernelspec": {
   "display_name": "cvpr",
   "language": "python",
   "name": "cvpr"
  },
  "language_info": {
   "codemirror_mode": {
    "name": "ipython",
    "version": 3
   },
   "file_extension": ".py",
   "mimetype": "text/x-python",
   "name": "python",
   "nbconvert_exporter": "python",
   "pygments_lexer": "ipython3",
   "version": "3.9.16"
  }
 },
 "nbformat": 4,
 "nbformat_minor": 5
}
