{
  "nbformat": 4,
  "nbformat_minor": 0,
  "metadata": {
    "colab": {
      "provenance": []
    },
    "kernelspec": {
      "name": "python3",
      "display_name": "Python 3"
    },
    "language_info": {
      "name": "python"
    }
  },
  "cells": [
    {
      "cell_type": "code",
      "execution_count": 2,
      "metadata": {
        "colab": {
          "base_uri": "https://localhost:8080/",
          "height": 447
        },
        "id": "W3r8C3f0BH5G",
        "outputId": "af77eee6-875d-4aad-d232-ad11a83b268e"
      },
      "outputs": [
        {
          "output_type": "execute_result",
          "data": {
            "text/plain": [
              "[<matplotlib.lines.Line2D at 0x78e3c4989fc0>]"
            ]
          },
          "metadata": {},
          "execution_count": 2
        },
        {
          "output_type": "display_data",
          "data": {
            "text/plain": [
              "<Figure size 640x480 with 1 Axes>"
            ],
            "image/png": "[encoded data removed]"
          },
          "metadata": {}
        }
      ],
      "source": [
        "import numpy as np\n",
        "import matplotlib.pyplot as plt\n",
        "\n",
        "np.random.seed(0)\n",
        "\n",
        "X = np.array([[0, 0], [0, 1], [1, 0], [1, 1]])\n",
        "Y = np.array([[0], [1], [1], [0]])\n",
        "\n",
        "\n",
        "class NeuralNetwork(object):\n",
        "    def __init__(self):\n",
        "        inputLayerNeurons = 2\n",
        "        hiddenLayer1Neurons = 10  # Number of neurons in the first hidden layer\n",
        "        hiddenLayer2Neurons = 10  # Number of neurons in the second hidden layer\n",
        "        outLayerNeurons = 1\n",
        "\n",
        "        self.learning_rate = 0.2\n",
        "\n",
        "        # Initialize weight matrices for both hidden layers and the output layer\n",
        "        self.W_H1H2 = np.random.randn(inputLayerNeurons, hiddenLayer1Neurons)\n",
        "        self.W_H2H3 = np.random.randn(hiddenLayer1Neurons, hiddenLayer2Neurons)\n",
        "        self.W_H3O = np.random.randn(hiddenLayer2Neurons, outLayerNeurons)\n",
        "\n",
        "    def sigmoid(self, x, der=False):\n",
        "        if der == True:\n",
        "            return x * (1 - x)\n",
        "        else:\n",
        "            return 1 / (1 + np.exp(-x))\n",
        "\n",
        "    def feedForward(self, X):\n",
        "        # Calculate the output of the first hidden layer\n",
        "        hidden1_input = np.dot(X, self.W_H1H2)\n",
        "        self.hidden1_output = self.sigmoid(hidden1_input)\n",
        "\n",
        "        # Calculate the output of the second hidden layer\n",
        "        hidden2_input = np.dot(self.hidden1_output, self.W_H2H3)\n",
        "        self.hidden2_output = self.sigmoid(hidden2_input)\n",
        "\n",
        "        # Calculate the final output\n",
        "        output_input = np.dot(self.hidden2_output, self.W_H3O)\n",
        "        pred = self.sigmoid(output_input)\n",
        "        return pred\n",
        "\n",
        "    def backPropagation(self, X, Y, pred):\n",
        "        output_error = Y - pred\n",
        "        output_delta = self.learning_rate * output_error * self.sigmoid(pred, der=True)\n",
        "\n",
        "        hidden2_error = output_delta.dot(self.W_H3O.T)\n",
        "        hidden2_delta = self.learning_rate * hidden2_error * self.sigmoid(self.hidden2_output, der=True)\n",
        "\n",
        "        hidden1_error = hidden2_delta.dot(self.W_H2H3.T)\n",
        "        hidden1_delta = self.learning_rate * hidden1_error * self.sigmoid(self.hidden1_output, der=True)\n",
        "\n",
        "        self.W_H1H2 += X.T.dot(hidden1_delta)\n",
        "        self.W_H2H3 += self.hidden1_output.T.dot(hidden2_delta)\n",
        "        self.W_H3O += self.hidden2_output.T.dot(output_delta)\n",
        "\n",
        "    def train(self, X, Y):\n",
        "        output = self.feedForward(X)\n",
        "        self.backPropagation(X, Y, output)\n",
        "\n",
        "\n",
        "NN = NeuralNetwork()\n",
        "\n",
        "err = []\n",
        "for i in range(10000):\n",
        "    NN.train(X, Y)\n",
        "    err.append(np.mean(np.square(Y - NN.feedForward(X))))\n",
        "\n",
        "plt.plot(err)\n"
      ]
    },
    {
      "cell_type": "code",
      "source": [
        "output_00 = NN.feedForward([0, 0])\n",
        "output_11 = NN.feedForward([1, 1])\n",
        "output_10 = NN.feedForward([1, 0])\n",
        "output_01 = NN.feedForward([0, 1])\n",
        "\n",
        "print(\"Output for [0, 0]:\", output_00)\n",
        "print(\"Output for [1, 1]:\", output_11)\n",
        "print(\"Output for [1, 0]:\", output_10)\n",
        "print(\"Output for [0, 1]:\", output_01)\n"
      ],
      "metadata": {
        "colab": {
          "base_uri": "https://localhost:8080/"
        },
        "id": "Spq0oUUNB_u_",
        "outputId": "c2e6c036-06d6-43c4-beaf-a9b81342f36e"
      },
      "execution_count": 3,
      "outputs": [
        {
          "output_type": "stream",
          "name": "stdout",
          "text": [
            "Output for [0, 0]: [0.04935136]\n",
            "Output for [1, 1]: [0.07128615]\n",
            "Output for [1, 0]: [0.93764785]\n",
            "Output for [0, 1]: [0.94072683]\n"
          ]
        }
      ]
    }
  ]
}